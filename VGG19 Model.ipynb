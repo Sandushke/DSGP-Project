{
 "cells": [
  {
   "cell_type": "code",
   "execution_count": 1,
   "id": "5f0d774a",
   "metadata": {},
   "outputs": [],
   "source": [
    "import os\n",
    "import pandas as pd\n",
    "import numpy as np\n",
    "import seaborn as sns\n",
    "import matplotlib.pyplot as plt\n",
    "import pathlib\n",
    "import tensorflow as tf\n",
    "import itertools\n",
    "import sklearn\n",
    "%matplotlib inline\n",
    "\n",
    "from sklearn.model_selection import train_test_split\n",
    "from tensorflow.keras.utils import to_categorical\n",
    "from tensorflow.keras.preprocessing.image import ImageDataGenerator\n",
    "from tensorflow.keras import layers\n",
    "from tensorflow.keras import Model\n",
    "from tensorflow.keras.applications.vgg19 import VGG19\n",
    "from tensorflow.keras.optimizers import Adam\n",
    "from tensorflow.keras.preprocessing.image import ImageDataGenerator\n",
    "from sklearn.metrics import classification_report \n",
    "from sklearn import datasets \n",
    "from tensorflow.keras import models, layers\n",
    "from tensorflow.keras.layers import Dense, Conv2D, Flatten, Dropout, MaxPooling2D, MaxPool2D,BatchNormalization\n",
    "from tensorflow.keras.models import Sequential\n",
    "from sklearn import preprocessing\n",
    "from sklearn.metrics import accuracy_score\n",
    "from tensorflow import keras\n",
    "from keras import Sequential\n",
    "from sklearn.metrics import confusion_matrix\n",
    "from sklearn.metrics import r2_score\n",
    "from sklearn.metrics import mean_squared_error\n",
    "\n",
    "import warnings\n",
    "warnings.filterwarnings(\"ignore\")"
   ]
  },
  {
   "cell_type": "code",
   "execution_count": 2,
   "id": "fabc0418",
   "metadata": {},
   "outputs": [
    {
     "name": "stdout",
     "output_type": "stream",
     "text": [
      "Found 1400 images belonging to 4 classes.\n",
      "Found 1400 images belonging to 4 classes.\n"
     ]
    }
   ],
   "source": [
    "train_datagen = ImageDataGenerator(\n",
    "        rescale=1./255,\n",
    "        shear_range=0.2,\n",
    "        zoom_range=0.2,\n",
    "        horizontal_flip=True)\n",
    "\n",
    "test_datagen = ImageDataGenerator(rescale=1./255)\n",
    "\n",
    "train_data = train_datagen.flow_from_directory(\n",
    "        'SKINDISEASE DATASET',\n",
    "        target_size=(32, 32),\n",
    "        batch_size=8,\n",
    ")\n",
    "\n",
    "test_data = test_datagen.flow_from_directory(\n",
    "        'SKINDISEASE DATASET',\n",
    "        target_size=(32, 32),\n",
    "        batch_size=8,\n",
    "        )"
   ]
  },
  {
   "cell_type": "code",
   "execution_count": 3,
   "id": "9964d986",
   "metadata": {},
   "outputs": [
    {
     "name": "stdout",
     "output_type": "stream",
     "text": [
      "Found 1400 images belonging to 4 classes.\n"
     ]
    },
    {
     "data": {
      "text/plain": [
       "<keras.preprocessing.image.DirectoryIterator at 0x200c67be7f0>"
      ]
     },
     "execution_count": 3,
     "metadata": {},
     "output_type": "execute_result"
    }
   ],
   "source": [
    "tf.keras.preprocessing.image.DirectoryIterator(\n",
    "    \"SKINDISEASE DATASET\",\n",
    "    ImageDataGenerator,\n",
    "    target_size=(256, 256),\n",
    "    color_mode='rgb',\n",
    "    classes=None,\n",
    "    class_mode='binary',\n",
    "    batch_size=32,\n",
    "    shuffle=True,\n",
    "    seed=None,\n",
    "    data_format=None,\n",
    "    save_to_dir=None,\n",
    "    save_prefix='',\n",
    "    save_format='png',\n",
    "    follow_links=False,\n",
    "    subset=None,\n",
    "    interpolation='nearest',\n",
    "    keep_aspect_ratio=False,\n",
    "    dtype=None\n",
    ")"
   ]
  },
  {
   "cell_type": "code",
   "execution_count": 4,
   "id": "0a06134a",
   "metadata": {},
   "outputs": [],
   "source": [
    "#Set all the Constants\n",
    "batchSize = 32\n",
    "imageSize = 256\n",
    "channels=3\n",
    "epoch = 50"
   ]
  },
  {
   "cell_type": "code",
   "execution_count": 5,
   "id": "8c8b0c17",
   "metadata": {},
   "outputs": [
    {
     "name": "stdout",
     "output_type": "stream",
     "text": [
      "Found 1400 files belonging to 4 classes.\n"
     ]
    }
   ],
   "source": [
    "#Import data into tensorflow dataset object()\n",
    "imageDataset = tf.keras.preprocessing.image_dataset_from_directory(\n",
    "    \"SKINDISEASE DATASET\", seed=123, shuffle=True, image_size=(imageSize,imageSize), batch_size=batchSize\n",
    ")"
   ]
  },
  {
   "cell_type": "code",
   "execution_count": 6,
   "id": "01665405",
   "metadata": {},
   "outputs": [
    {
     "data": {
      "text/plain": [
       "['Acne and Rosacea',\n",
       " 'Eczema',\n",
       " 'Melanoma Skin Cancer Nevi and Moles',\n",
       " 'Psoriasis']"
      ]
     },
     "execution_count": 6,
     "metadata": {},
     "output_type": "execute_result"
    }
   ],
   "source": [
    "#Check for dataset classes\n",
    "classNames = imageDataset.class_names\n",
    "classNames"
   ]
  },
  {
   "cell_type": "code",
   "execution_count": 7,
   "id": "462e34c6",
   "metadata": {},
   "outputs": [],
   "source": [
    "pre_trained_model = VGG19(input_shape=(256, 256, 3), include_top=False, weights=\"imagenet\")"
   ]
  },
  {
   "cell_type": "code",
   "execution_count": 8,
   "id": "4ea6c3b1",
   "metadata": {},
   "outputs": [
    {
     "name": "stdout",
     "output_type": "stream",
     "text": [
      "input_1\n",
      "block1_conv1\n",
      "block1_conv2\n",
      "block1_pool\n",
      "block2_conv1\n",
      "block2_conv2\n",
      "block2_pool\n",
      "block3_conv1\n",
      "block3_conv2\n",
      "block3_conv3\n",
      "block3_conv4\n",
      "block3_pool\n",
      "block4_conv1\n",
      "block4_conv2\n",
      "block4_conv3\n",
      "block4_conv4\n",
      "block4_pool\n",
      "block5_conv1\n",
      "block5_conv2\n",
      "block5_conv3\n",
      "block5_conv4\n",
      "block5_pool\n",
      "22\n"
     ]
    }
   ],
   "source": [
    "for layer in pre_trained_model.layers:\n",
    "    print(layer.name)\n",
    "    layer.trainable = False\n",
    "    \n",
    "print(len(pre_trained_model.layers))"
   ]
  },
  {
   "cell_type": "code",
   "execution_count": 9,
   "id": "bb68d5e5",
   "metadata": {},
   "outputs": [
    {
     "name": "stdout",
     "output_type": "stream",
     "text": [
      "last layer output shape: (None, 8, 8, 512)\n"
     ]
    }
   ],
   "source": [
    "last_layer = pre_trained_model.get_layer('block5_pool')\n",
    "print('last layer output shape:', last_layer.output_shape)\n",
    "last_output = last_layer.output"
   ]
  },
  {
   "cell_type": "code",
   "execution_count": 10,
   "id": "3f4a0bd9",
   "metadata": {},
   "outputs": [],
   "source": [
    "# Flatten the output layer to 1 dimension\n",
    "x = layers.GlobalMaxPooling2D()(last_output)\n",
    "# Add a fully connected layer with 512 hidden units and ReLU activation\n",
    "x = layers.Dense(512, activation='relu')(x)\n",
    "# Add a dropout rate of 0.5\n",
    "x = layers.Dropout(0.5)(x)\n",
    "# Add a final sigmoid layer for classification\n",
    "x = layers.Dense(1)(x)\n",
    "\n",
    "# Configure and compile the model\n",
    "model = Model(pre_trained_model.input, x)\n",
    "model.compile(optimizer='adam', loss='binary_crossentropy', metrics=['accuracy'])"
   ]
  },
  {
   "cell_type": "code",
   "execution_count": 11,
   "id": "c1c3a537",
   "metadata": {
    "scrolled": false
   },
   "outputs": [
    {
     "name": "stdout",
     "output_type": "stream",
     "text": [
      "Epoch 1/50\n",
      "175/175 [==============================] - 491s 3s/step - loss: 3.8240 - accuracy: 0.7429 - val_loss: 3.8562 - val_accuracy: 0.7500\n",
      "Epoch 2/50\n",
      "175/175 [==============================] - 570s 3s/step - loss: 3.8562 - accuracy: 0.7500 - val_loss: 3.8562 - val_accuracy: 0.7500\n",
      "Epoch 3/50\n",
      "175/175 [==============================] - 521s 3s/step - loss: 3.8562 - accuracy: 0.7500 - val_loss: 3.8562 - val_accuracy: 0.7500\n",
      "Epoch 4/50\n",
      "175/175 [==============================] - 510s 3s/step - loss: 3.8562 - accuracy: 0.7500 - val_loss: 3.8562 - val_accuracy: 0.7500\n",
      "Epoch 5/50\n",
      "175/175 [==============================] - 544s 3s/step - loss: 3.8562 - accuracy: 0.7500 - val_loss: 3.8562 - val_accuracy: 0.7500\n",
      "Epoch 6/50\n",
      "175/175 [==============================] - 516s 3s/step - loss: 3.8422 - accuracy: 0.7479 - val_loss: 3.8562 - val_accuracy: 0.7500\n",
      "Epoch 7/50\n",
      "175/175 [==============================] - 525s 3s/step - loss: 3.8562 - accuracy: 0.7500 - val_loss: 3.8562 - val_accuracy: 0.7500\n",
      "Epoch 8/50\n",
      "175/175 [==============================] - 699s 4s/step - loss: 3.8562 - accuracy: 0.7500 - val_loss: 3.8562 - val_accuracy: 0.7500\n",
      "Epoch 9/50\n",
      "175/175 [==============================] - 534s 3s/step - loss: 3.8562 - accuracy: 0.7500 - val_loss: 3.8562 - val_accuracy: 0.7500\n",
      "Epoch 10/50\n",
      "175/175 [==============================] - 515s 3s/step - loss: 3.8562 - accuracy: 0.7500 - val_loss: 3.8562 - val_accuracy: 0.7500\n",
      "Epoch 11/50\n",
      "175/175 [==============================] - 540s 3s/step - loss: 3.8562 - accuracy: 0.7500 - val_loss: 3.8562 - val_accuracy: 0.7500\n",
      "Epoch 12/50\n",
      "175/175 [==============================] - 276s 2s/step - loss: 3.8562 - accuracy: 0.7500 - val_loss: 3.8562 - val_accuracy: 0.7500\n",
      "Epoch 13/50\n",
      "175/175 [==============================] - 60s 341ms/step - loss: 3.8562 - accuracy: 0.7500 - val_loss: 3.8562 - val_accuracy: 0.7500\n",
      "Epoch 14/50\n",
      "175/175 [==============================] - 69s 394ms/step - loss: 3.8562 - accuracy: 0.7500 - val_loss: 3.8562 - val_accuracy: 0.7500\n",
      "Epoch 15/50\n",
      "175/175 [==============================] - 72s 412ms/step - loss: 3.8562 - accuracy: 0.7500 - val_loss: 3.8562 - val_accuracy: 0.7500\n",
      "Epoch 16/50\n",
      "175/175 [==============================] - 71s 405ms/step - loss: 3.8562 - accuracy: 0.7500 - val_loss: 3.8562 - val_accuracy: 0.7500\n",
      "Epoch 17/50\n",
      "175/175 [==============================] - 142s 811ms/step - loss: 3.8562 - accuracy: 0.7500 - val_loss: 3.8562 - val_accuracy: 0.7500\n",
      "Epoch 18/50\n",
      "175/175 [==============================] - 510s 3s/step - loss: 3.8562 - accuracy: 0.7500 - val_loss: 3.8562 - val_accuracy: 0.7500\n",
      "Epoch 19/50\n",
      "175/175 [==============================] - 57s 326ms/step - loss: 3.8562 - accuracy: 0.7500 - val_loss: 3.8562 - val_accuracy: 0.7500\n",
      "Epoch 20/50\n",
      "175/175 [==============================] - 54s 309ms/step - loss: 3.8562 - accuracy: 0.7500 - val_loss: 3.8562 - val_accuracy: 0.7500\n",
      "Epoch 21/50\n",
      "175/175 [==============================] - 320s 2s/step - loss: 3.8562 - accuracy: 0.7500 - val_loss: 3.8562 - val_accuracy: 0.7500\n",
      "Epoch 22/50\n",
      "175/175 [==============================] - 319s 2s/step - loss: 3.8562 - accuracy: 0.7500 - val_loss: 3.8562 - val_accuracy: 0.7500\n",
      "Epoch 23/50\n",
      "175/175 [==============================] - 66s 376ms/step - loss: 3.8562 - accuracy: 0.7500 - val_loss: 3.8562 - val_accuracy: 0.7500\n",
      "Epoch 24/50\n",
      "175/175 [==============================] - 68s 388ms/step - loss: 3.8562 - accuracy: 0.7500 - val_loss: 3.8562 - val_accuracy: 0.7500\n",
      "Epoch 25/50\n",
      "175/175 [==============================] - 67s 384ms/step - loss: 3.8562 - accuracy: 0.7500 - val_loss: 3.8562 - val_accuracy: 0.7500\n",
      "Epoch 26/50\n",
      "175/175 [==============================] - 61s 349ms/step - loss: 3.8562 - accuracy: 0.7500 - val_loss: 3.8562 - val_accuracy: 0.7500\n",
      "Epoch 27/50\n",
      "175/175 [==============================] - 54s 308ms/step - loss: 3.8562 - accuracy: 0.7500 - val_loss: 3.8562 - val_accuracy: 0.7500\n",
      "Epoch 28/50\n",
      "175/175 [==============================] - 51s 291ms/step - loss: 3.8562 - accuracy: 0.7500 - val_loss: 3.8562 - val_accuracy: 0.7500\n",
      "Epoch 29/50\n",
      "175/175 [==============================] - 55s 316ms/step - loss: 3.8562 - accuracy: 0.7500 - val_loss: 3.8562 - val_accuracy: 0.7500\n",
      "Epoch 30/50\n",
      "175/175 [==============================] - 51s 294ms/step - loss: 3.8562 - accuracy: 0.7500 - val_loss: 3.8562 - val_accuracy: 0.7500\n",
      "Epoch 31/50\n",
      "175/175 [==============================] - 53s 300ms/step - loss: 3.8562 - accuracy: 0.7500 - val_loss: 3.8562 - val_accuracy: 0.7500\n",
      "Epoch 32/50\n",
      "175/175 [==============================] - 55s 315ms/step - loss: 3.8562 - accuracy: 0.7500 - val_loss: 3.8562 - val_accuracy: 0.7500\n",
      "Epoch 33/50\n",
      "175/175 [==============================] - 54s 306ms/step - loss: 3.8562 - accuracy: 0.7500 - val_loss: 3.8562 - val_accuracy: 0.7500\n",
      "Epoch 34/50\n",
      "175/175 [==============================] - 53s 302ms/step - loss: 3.8562 - accuracy: 0.7500 - val_loss: 3.8562 - val_accuracy: 0.7500\n",
      "Epoch 35/50\n",
      "175/175 [==============================] - 53s 304ms/step - loss: 3.8562 - accuracy: 0.7500 - val_loss: 3.8562 - val_accuracy: 0.7500\n",
      "Epoch 36/50\n",
      "175/175 [==============================] - 52s 298ms/step - loss: 3.8562 - accuracy: 0.7500 - val_loss: 3.8562 - val_accuracy: 0.7500\n",
      "Epoch 37/50\n",
      "175/175 [==============================] - 53s 301ms/step - loss: 3.8562 - accuracy: 0.7500 - val_loss: 3.8562 - val_accuracy: 0.7500\n",
      "Epoch 38/50\n",
      "175/175 [==============================] - 53s 301ms/step - loss: 3.8562 - accuracy: 0.7500 - val_loss: 3.8562 - val_accuracy: 0.7500\n",
      "Epoch 39/50\n",
      "175/175 [==============================] - 53s 300ms/step - loss: 3.8562 - accuracy: 0.7500 - val_loss: 3.8562 - val_accuracy: 0.7500\n",
      "Epoch 40/50\n",
      "175/175 [==============================] - 53s 304ms/step - loss: 3.8562 - accuracy: 0.7500 - val_loss: 3.8562 - val_accuracy: 0.7500\n",
      "Epoch 41/50\n",
      "175/175 [==============================] - 52s 297ms/step - loss: 3.8562 - accuracy: 0.7500 - val_loss: 3.8562 - val_accuracy: 0.7500\n",
      "Epoch 42/50\n",
      "175/175 [==============================] - 52s 299ms/step - loss: 3.8562 - accuracy: 0.7500 - val_loss: 3.8562 - val_accuracy: 0.7500\n",
      "Epoch 43/50\n",
      "175/175 [==============================] - 53s 303ms/step - loss: 3.8562 - accuracy: 0.7500 - val_loss: 3.8562 - val_accuracy: 0.7500\n",
      "Epoch 44/50\n",
      "175/175 [==============================] - 51s 293ms/step - loss: 3.8562 - accuracy: 0.7500 - val_loss: 3.8562 - val_accuracy: 0.7500\n",
      "Epoch 45/50\n",
      "175/175 [==============================] - 69s 394ms/step - loss: 3.8562 - accuracy: 0.7500 - val_loss: 3.8562 - val_accuracy: 0.7500\n",
      "Epoch 46/50\n",
      "175/175 [==============================] - 58s 330ms/step - loss: 3.8562 - accuracy: 0.7500 - val_loss: 3.8562 - val_accuracy: 0.7500\n",
      "Epoch 47/50\n",
      "175/175 [==============================] - 53s 303ms/step - loss: 3.8562 - accuracy: 0.7500 - val_loss: 3.8562 - val_accuracy: 0.7500\n",
      "Epoch 48/50\n",
      "175/175 [==============================] - 55s 314ms/step - loss: 3.8562 - accuracy: 0.7500 - val_loss: 3.8562 - val_accuracy: 0.7500\n",
      "Epoch 49/50\n",
      "175/175 [==============================] - 55s 312ms/step - loss: 3.8562 - accuracy: 0.7500 - val_loss: 3.8562 - val_accuracy: 0.7500\n",
      "Epoch 50/50\n",
      "175/175 [==============================] - 51s 291ms/step - loss: 3.8562 - accuracy: 0.7500 - val_loss: 3.8562 - val_accuracy: 0.7500\n"
     ]
    }
   ],
   "source": [
    "history = model.fit(\n",
    "        train_data,\n",
    "        validation_data=train_data,\n",
    "        verbose=1,\n",
    "        epochs=epoch,\n",
    "       )"
   ]
  },
  {
   "cell_type": "code",
   "execution_count": 12,
   "id": "b7c11b81",
   "metadata": {},
   "outputs": [],
   "source": [
    "for layer in pre_trained_model.layers:\n",
    "    layer.trainable = True"
   ]
  },
  {
   "cell_type": "code",
   "execution_count": 13,
   "id": "7be3eb2f",
   "metadata": {},
   "outputs": [],
   "source": [
    "model.compile(optimizer='adam', loss='binary_crossentropy', metrics=['accuracy'])"
   ]
  },
  {
   "cell_type": "code",
   "execution_count": 15,
   "id": "3614260b",
   "metadata": {},
   "outputs": [
    {
     "name": "stdout",
     "output_type": "stream",
     "text": [
      "Model: \"model\"\n",
      "_________________________________________________________________\n",
      " Layer (type)                Output Shape              Param #   \n",
      "=================================================================\n",
      " input_1 (InputLayer)        [(None, 256, 256, 3)]     0         \n",
      "                                                                 \n",
      " block1_conv1 (Conv2D)       (None, 256, 256, 64)      1792      \n",
      "                                                                 \n",
      " block1_conv2 (Conv2D)       (None, 256, 256, 64)      36928     \n",
      "                                                                 \n",
      " block1_pool (MaxPooling2D)  (None, 128, 128, 64)      0         \n",
      "                                                                 \n",
      " block2_conv1 (Conv2D)       (None, 128, 128, 128)     73856     \n",
      "                                                                 \n",
      " block2_conv2 (Conv2D)       (None, 128, 128, 128)     147584    \n",
      "                                                                 \n",
      " block2_pool (MaxPooling2D)  (None, 64, 64, 128)       0         \n",
      "                                                                 \n",
      " block3_conv1 (Conv2D)       (None, 64, 64, 256)       295168    \n",
      "                                                                 \n",
      " block3_conv2 (Conv2D)       (None, 64, 64, 256)       590080    \n",
      "                                                                 \n",
      " block3_conv3 (Conv2D)       (None, 64, 64, 256)       590080    \n",
      "                                                                 \n",
      " block3_conv4 (Conv2D)       (None, 64, 64, 256)       590080    \n",
      "                                                                 \n",
      " block3_pool (MaxPooling2D)  (None, 32, 32, 256)       0         \n",
      "                                                                 \n",
      " block4_conv1 (Conv2D)       (None, 32, 32, 512)       1180160   \n",
      "                                                                 \n",
      " block4_conv2 (Conv2D)       (None, 32, 32, 512)       2359808   \n",
      "                                                                 \n",
      " block4_conv3 (Conv2D)       (None, 32, 32, 512)       2359808   \n",
      "                                                                 \n",
      " block4_conv4 (Conv2D)       (None, 32, 32, 512)       2359808   \n",
      "                                                                 \n",
      " block4_pool (MaxPooling2D)  (None, 16, 16, 512)       0         \n",
      "                                                                 \n",
      " block5_conv1 (Conv2D)       (None, 16, 16, 512)       2359808   \n",
      "                                                                 \n",
      " block5_conv2 (Conv2D)       (None, 16, 16, 512)       2359808   \n",
      "                                                                 \n",
      " block5_conv3 (Conv2D)       (None, 16, 16, 512)       2359808   \n",
      "                                                                 \n",
      " block5_conv4 (Conv2D)       (None, 16, 16, 512)       2359808   \n",
      "                                                                 \n",
      " block5_pool (MaxPooling2D)  (None, 8, 8, 512)         0         \n",
      "                                                                 \n",
      " global_max_pooling2d (Globa  (None, 512)              0         \n",
      " lMaxPooling2D)                                                  \n",
      "                                                                 \n",
      " dense (Dense)               (None, 512)               262656    \n",
      "                                                                 \n",
      " dropout (Dropout)           (None, 512)               0         \n",
      "                                                                 \n",
      " dense_1 (Dense)             (None, 1)                 513       \n",
      "                                                                 \n",
      "=================================================================\n",
      "Total params: 20,287,553\n",
      "Trainable params: 20,287,553\n",
      "Non-trainable params: 0\n",
      "_________________________________________________________________\n"
     ]
    }
   ],
   "source": [
    "model.summary()"
   ]
  },
  {
   "cell_type": "code",
   "execution_count": 16,
   "id": "d0f3b899",
   "metadata": {},
   "outputs": [
    {
     "name": "stdout",
     "output_type": "stream",
     "text": [
      "175/175 [==============================] - 30s 159ms/step - loss: 3.8562 - accuracy: 0.7500\n",
      "Validation: accuracy = 0.750000  ;  loss_v = 3.856240\n"
     ]
    }
   ],
   "source": [
    "loss_val, acc_val = model.evaluate(train_data, verbose=1)\n",
    "print(\"Validation: accuracy = %f  ;  loss_v = %f\" % (acc_val, loss_val))"
   ]
  },
  {
   "cell_type": "code",
   "execution_count": 17,
   "id": "cad0faec",
   "metadata": {},
   "outputs": [
    {
     "name": "stdout",
     "output_type": "stream",
     "text": [
      "175/175 [==============================] - 27s 154ms/step - loss: 3.8562 - accuracy: 0.7500\n",
      "Test: accuracy = 0.750000  ;  loss = 3.856240\n"
     ]
    }
   ],
   "source": [
    "loss_test, acc_test = model.evaluate(test_data, verbose=1)\n",
    "print(\"Test: accuracy = %f  ;  loss = %f\" % (acc_test, loss_test))"
   ]
  },
  {
   "cell_type": "code",
   "execution_count": 26,
   "id": "73d200bb",
   "metadata": {},
   "outputs": [],
   "source": [
    "accuracy = history.history['accuracy']\n",
    "validationAccuracy = history.history['val_accuracy']\n",
    "\n",
    "loss = history.history['loss']\n",
    "validationLoss = history.history['val_loss']"
   ]
  },
  {
   "cell_type": "code",
   "execution_count": 27,
   "id": "2565f038",
   "metadata": {},
   "outputs": [
    {
     "data": {
      "image/png": "[encoded data removed]",
      "text/plain": [
       "<Figure size 800x800 with 2 Axes>"
      ]
     },
     "metadata": {},
     "output_type": "display_data"
    }
   ],
   "source": [
    "plt.figure(figsize=(8, 8))\n",
    "plt.subplot(1, 2, 1)\n",
    "plt.plot(range(epoch), accuracy, label='Training Accuracy')\n",
    "plt.plot(range(epoch), validationAccuracy, label='Validation Accuracy')\n",
    "plt.legend(loc='lower right')\n",
    "plt.title('Training and Validation Accuracy')\n",
    "\n",
    "plt.subplot(1, 2, 2)\n",
    "plt.plot(range(epoch), loss, label='Training Loss')\n",
    "plt.plot(range(epoch), validationLoss, label='Validation Loss')\n",
    "plt.legend(loc='upper right')\n",
    "plt.title('Training and Validation Loss')\n",
    "plt.show()"
   ]
  },
  {
   "cell_type": "code",
   "execution_count": 28,
   "id": "46c8e064",
   "metadata": {},
   "outputs": [
    {
     "name": "stderr",
     "output_type": "stream",
     "text": [
      "WARNING:absl:Found untraced functions such as _jit_compiled_convolution_op, _jit_compiled_convolution_op, _jit_compiled_convolution_op, _jit_compiled_convolution_op, _jit_compiled_convolution_op while saving (showing 5 of 16). These functions will not be directly callable after loading.\n"
     ]
    },
    {
     "name": "stdout",
     "output_type": "stream",
     "text": [
      "INFO:tensorflow:Assets written to: ../skinDiseaseDetection/models/6\\assets\n"
     ]
    },
    {
     "name": "stderr",
     "output_type": "stream",
     "text": [
      "INFO:tensorflow:Assets written to: ../skinDiseaseDetection/models/6\\assets\n"
     ]
    }
   ],
   "source": [
    "model_version=max([int(i) for i in os.listdir(\"../skinDiseaseDetection/models\") + [1]])\n",
    "model.save(f\"../skinDiseaseDetection/models/{model_version}\")"
   ]
  },
  {
   "cell_type": "code",
   "execution_count": 29,
   "id": "2af7d66e",
   "metadata": {},
   "outputs": [],
   "source": [
    "model.save(\"../modelVGG.h5\")"
   ]
  },
  {
   "cell_type": "code",
   "execution_count": null,
   "id": "9fe72c9e",
   "metadata": {},
   "outputs": [],
   "source": []
  }
 ],
 "metadata": {
  "kernelspec": {
   "display_name": "Python 3 (ipykernel)",
   "language": "python",
   "name": "python3"
  },
  "language_info": {
   "codemirror_mode": {
    "name": "ipython",
    "version": 3
   },
   "file_extension": ".py",
   "mimetype": "text/x-python",
   "name": "python",
   "nbconvert_exporter": "python",
   "pygments_lexer": "ipython3",
   "version": "3.9.15"
  }
 },
 "nbformat": 4,
 "nbformat_minor": 5
}
