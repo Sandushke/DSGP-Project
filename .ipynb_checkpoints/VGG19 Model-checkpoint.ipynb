{
 "cells": [
  {
   "cell_type": "code",
   "execution_count": 2,
   "id": "5f0d774a",
   "metadata": {},
   "outputs": [],
   "source": [
    "import os\n",
    "import pandas as pd\n",
    "import numpy as np\n",
    "import matplotlib.pyplot as plt\n",
    "import pathlib\n",
    "import tensorflow as tf\n",
    "%matplotlib inline\n",
    "\n",
    "from sklearn.model_selection import train_teust_split\n",
    "from tensorflow.keras.utils import to_categorical # convert to one-hot-encoding\n",
    "from tensorflow.keras.preprocessing.image import ImageDataGenerator\n",
    "from tensorflow.keras import layers\n",
    "from tensorflow.keras import Model\n",
    "from tensorflow.keras.applications.vgg19 import VGG19\n",
    "from tensorflow.keras.optimizers import Adam\n",
    "from tensorflow.keras.callbacks import ReduceLROnPlateau, EarlyStopping\n",
    "from tensorflow.keras import backend as K\n",
    "from tensorflow.keras.preprocessing.image import ImageDataGenerator\n",
    "from sklearn.metrics import classification_report \n",
    "from sklearn import datasets \n",
    "from tensorflow.keras import models, layers\n",
    "from tensorflow.keras.layers import Dense, Conv2D, Flatten, Dropout, MaxPooling2D, MaxPool2D,BatchNormalization\n",
    "from tensorflow.keras.models import Sequential\n",
    "from sklearn import preprocessing\n",
    "from sklearn.metrics import accuracy_score\n",
    "from tensorflow import keras\n",
    "from keras import Sequential\n",
    "\n",
    "import warnings\n",
    "warnings.filterwarnings(\"ignore\")"
   ]
  },
  {
   "cell_type": "code",
   "execution_count": 3,
   "id": "fabc0418",
   "metadata": {},
   "outputs": [
    {
     "name": "stdout",
     "output_type": "stream",
     "text": [
      "Found 4518 images belonging to 4 classes.\n",
      "Found 4518 images belonging to 4 classes.\n"
     ]
    }
   ],
   "source": [
    "train_datagen = ImageDataGenerator(\n",
    "        rescale=1./255,\n",
    "        shear_range=0.2,\n",
    "        zoom_range=0.2,\n",
    "        horizontal_flip=True)\n",
    "\n",
    "test_datagen = ImageDataGenerator(rescale=1./255)\n",
    "\n",
    "train_data = train_datagen.flow_from_directory(\n",
    "        'skinDisease Datasets',\n",
    "        target_size=(32, 32),\n",
    "        batch_size=8,\n",
    ")\n",
    "\n",
    "test_data = test_datagen.flow_from_directory(\n",
    "        'skinDisease Datasets',\n",
    "        target_size=(32, 32),\n",
    "        batch_size=8,\n",
    "        )"
   ]
  },
  {
   "cell_type": "code",
   "execution_count": 4,
   "id": "9964d986",
   "metadata": {},
   "outputs": [
    {
     "name": "stdout",
     "output_type": "stream",
     "text": [
      "Found 4518 images belonging to 4 classes.\n"
     ]
    },
    {
     "data": {
      "text/plain": [
       "<keras.preprocessing.image.DirectoryIterator at 0x23b6e4fae50>"
      ]
     },
     "execution_count": 4,
     "metadata": {},
     "output_type": "execute_result"
    }
   ],
   "source": [
    "tf.keras.preprocessing.image.DirectoryIterator(\n",
    "    \"skinDisease Datasets\",\n",
    "    ImageDataGenerator,\n",
    "    target_size=(256, 256),\n",
    "    color_mode='rgb',\n",
    "    classes=None,\n",
    "    class_mode='binary',\n",
    "    batch_size=32,\n",
    "    shuffle=True,\n",
    "    seed=None,\n",
    "    data_format=None,\n",
    "    save_to_dir=None,\n",
    "    save_prefix='',\n",
    "    save_format='png',\n",
    "    follow_links=False,\n",
    "    subset=None,\n",
    "    interpolation='nearest',\n",
    "    keep_aspect_ratio=False,\n",
    "    dtype=None\n",
    ")"
   ]
  },
  {
   "cell_type": "code",
   "execution_count": 5,
   "id": "0a06134a",
   "metadata": {},
   "outputs": [],
   "source": [
    "#Set all the Constants\n",
    "batchSize = 32\n",
    "imageSize = 256\n",
    "channels=3\n",
    "epoch = 70 "
   ]
  },
  {
   "cell_type": "code",
   "execution_count": 6,
   "id": "8c8b0c17",
   "metadata": {},
   "outputs": [
    {
     "name": "stdout",
     "output_type": "stream",
     "text": [
      "Found 4518 files belonging to 4 classes.\n"
     ]
    }
   ],
   "source": [
    "#Import data into tensorflow dataset object()\n",
    "imageDataset = tf.keras.preprocessing.image_dataset_from_directory(\n",
    "    \"skinDisease Datasets\", seed=123, shuffle=True, image_size=(imageSize,imageSize), batch_size=batchSize\n",
    ")"
   ]
  },
  {
   "cell_type": "code",
   "execution_count": 7,
   "id": "01665405",
   "metadata": {},
   "outputs": [
    {
     "data": {
      "text/plain": [
       "['Acne', 'Eczema', 'Melanoma Skin Cancer Nevi and Moles', 'Psoriasis']"
      ]
     },
     "execution_count": 7,
     "metadata": {},
     "output_type": "execute_result"
    }
   ],
   "source": [
    "#Check for dataset classes\n",
    "classNames = imageDataset.class_names\n",
    "classNames"
   ]
  },
  {
   "cell_type": "code",
   "execution_count": 8,
   "id": "462e34c6",
   "metadata": {},
   "outputs": [],
   "source": [
    "pre_trained_model = VGG19(input_shape=(256, 256, 3), include_top=False, weights=\"imagenet\")"
   ]
  },
  {
   "cell_type": "code",
   "execution_count": 9,
   "id": "4ea6c3b1",
   "metadata": {},
   "outputs": [
    {
     "name": "stdout",
     "output_type": "stream",
     "text": [
      "input_1\n",
      "block1_conv1\n",
      "block1_conv2\n",
      "block1_pool\n",
      "block2_conv1\n",
      "block2_conv2\n",
      "block2_pool\n",
      "block3_conv1\n",
      "block3_conv2\n",
      "block3_conv3\n",
      "block3_conv4\n",
      "block3_pool\n",
      "block4_conv1\n",
      "block4_conv2\n",
      "block4_conv3\n",
      "block4_conv4\n",
      "block4_pool\n",
      "block5_conv1\n",
      "block5_conv2\n",
      "block5_conv3\n",
      "block5_conv4\n",
      "block5_pool\n",
      "22\n"
     ]
    }
   ],
   "source": [
    "for layer in pre_trained_model.layers:\n",
    "    print(layer.name)\n",
    "    layer.trainable = False\n",
    "    \n",
    "print(len(pre_trained_model.layers))"
   ]
  },
  {
   "cell_type": "code",
   "execution_count": 10,
   "id": "bb68d5e5",
   "metadata": {},
   "outputs": [
    {
     "name": "stdout",
     "output_type": "stream",
     "text": [
      "last layer output shape: (None, 8, 8, 512)\n"
     ]
    }
   ],
   "source": [
    "last_layer = pre_trained_model.get_layer('block5_pool')\n",
    "print('last layer output shape:', last_layer.output_shape)\n",
    "last_output = last_layer.output"
   ]
  },
  {
   "cell_type": "code",
   "execution_count": 11,
   "id": "3f4a0bd9",
   "metadata": {},
   "outputs": [],
   "source": [
    "# Flatten the output layer to 1 dimension\n",
    "x = layers.GlobalMaxPooling2D()(last_output)\n",
    "# Add a fully connected layer with 512 hidden units and ReLU activation\n",
    "x = layers.Dense(512, activation='relu')(x)\n",
    "# Add a dropout rate of 0.5\n",
    "x = layers.Dropout(0.5)(x)\n",
    "# Add a final sigmoid layer for classification\n",
    "x = layers.Dense(1)(x)\n",
    "\n",
    "# Configure and compile the model\n",
    "model = Model(pre_trained_model.input, x)\n",
    "model.compile(optimizer='adam', loss='categorical_crossentropy', metrics=['accuracy'])"
   ]
  },
  {
   "cell_type": "code",
   "execution_count": 12,
   "id": "279c4d11",
   "metadata": {},
   "outputs": [],
   "source": [
    "#history = model.fit(train_data, \n",
    "#                    batch_size=batchSize, \n",
    "#                    validation_data=test_data, \n",
    "#                    verbose=1, \n",
    "#                    epochs=epoch,\n",
    "#                   )"
   ]
  },
  {
   "cell_type": "code",
   "execution_count": 13,
   "id": "c1c3a537",
   "metadata": {
    "scrolled": false
   },
   "outputs": [
    {
     "name": "stdout",
     "output_type": "stream",
     "text": [
      "Epoch 1/70\n",
      "565/565 [==============================] - 192s 338ms/step - loss: 1.1921e-07 - accuracy: 0.6798 - val_loss: 1.1921e-07 - val_accuracy: 0.7482\n",
      "Epoch 2/70\n",
      "565/565 [==============================] - 225s 398ms/step - loss: 1.1921e-07 - accuracy: 0.6837 - val_loss: 1.1921e-07 - val_accuracy: 0.7486\n",
      "Epoch 3/70\n",
      "565/565 [==============================] - 228s 404ms/step - loss: 1.1921e-07 - accuracy: 0.6827 - val_loss: 1.1921e-07 - val_accuracy: 0.7490\n",
      "Epoch 4/70\n",
      "565/565 [==============================] - 208s 368ms/step - loss: 1.1921e-07 - accuracy: 0.6792 - val_loss: 1.1921e-07 - val_accuracy: 0.7478\n",
      "Epoch 5/70\n",
      "565/565 [==============================] - 259s 458ms/step - loss: 1.1921e-07 - accuracy: 0.6823 - val_loss: 1.1921e-07 - val_accuracy: 0.7491\n",
      "Epoch 6/70\n",
      "565/565 [==============================] - 245s 434ms/step - loss: 1.1921e-07 - accuracy: 0.6787 - val_loss: 1.1921e-07 - val_accuracy: 0.7483\n",
      "Epoch 7/70\n",
      "565/565 [==============================] - 222s 393ms/step - loss: 1.1921e-07 - accuracy: 0.6818 - val_loss: 1.1921e-07 - val_accuracy: 0.7482\n",
      "Epoch 8/70\n",
      "565/565 [==============================] - 212s 375ms/step - loss: 1.1921e-07 - accuracy: 0.6791 - val_loss: 1.1921e-07 - val_accuracy: 0.7485\n",
      "Epoch 9/70\n",
      "565/565 [==============================] - 192s 340ms/step - loss: 1.1921e-07 - accuracy: 0.6814 - val_loss: 1.1921e-07 - val_accuracy: 0.7485\n",
      "Epoch 10/70\n",
      "565/565 [==============================] - 199s 352ms/step - loss: 1.1921e-07 - accuracy: 0.6837 - val_loss: 1.1921e-07 - val_accuracy: 0.7483\n",
      "Epoch 11/70\n",
      "565/565 [==============================] - 221s 391ms/step - loss: 1.1921e-07 - accuracy: 0.6867 - val_loss: 1.1921e-07 - val_accuracy: 0.7487\n",
      "Epoch 12/70\n",
      "565/565 [==============================] - 214s 379ms/step - loss: 1.1921e-07 - accuracy: 0.6834 - val_loss: 1.1921e-07 - val_accuracy: 0.7478\n",
      "Epoch 13/70\n",
      "565/565 [==============================] - 196s 347ms/step - loss: 1.1921e-07 - accuracy: 0.6846 - val_loss: 1.1921e-07 - val_accuracy: 0.7483\n",
      "Epoch 14/70\n",
      "565/565 [==============================] - 190s 337ms/step - loss: 1.1921e-07 - accuracy: 0.6786 - val_loss: 1.1921e-07 - val_accuracy: 0.7481\n",
      "Epoch 15/70\n",
      "565/565 [==============================] - 183s 323ms/step - loss: 1.1921e-07 - accuracy: 0.6836 - val_loss: 1.1921e-07 - val_accuracy: 0.7483\n",
      "Epoch 16/70\n",
      "565/565 [==============================] - 186s 328ms/step - loss: 1.1921e-07 - accuracy: 0.6846 - val_loss: 1.1921e-07 - val_accuracy: 0.7482\n",
      "Epoch 17/70\n",
      "565/565 [==============================] - 193s 342ms/step - loss: 1.1921e-07 - accuracy: 0.6823 - val_loss: 1.1921e-07 - val_accuracy: 0.7482\n",
      "Epoch 18/70\n",
      "565/565 [==============================] - 190s 337ms/step - loss: 1.1921e-07 - accuracy: 0.6843 - val_loss: 1.1921e-07 - val_accuracy: 0.7481\n",
      "Epoch 19/70\n",
      "565/565 [==============================] - 186s 330ms/step - loss: 1.1921e-07 - accuracy: 0.6809 - val_loss: 1.1921e-07 - val_accuracy: 0.7480\n",
      "Epoch 20/70\n",
      "565/565 [==============================] - 186s 329ms/step - loss: 1.1921e-07 - accuracy: 0.6813 - val_loss: 1.1921e-07 - val_accuracy: 0.7483\n",
      "Epoch 21/70\n",
      "565/565 [==============================] - 189s 335ms/step - loss: 1.1921e-07 - accuracy: 0.6843 - val_loss: 1.1921e-07 - val_accuracy: 0.7482\n",
      "Epoch 22/70\n",
      "565/565 [==============================] - 189s 335ms/step - loss: 1.1921e-07 - accuracy: 0.6799 - val_loss: 1.1921e-07 - val_accuracy: 0.7487\n",
      "Epoch 23/70\n",
      "565/565 [==============================] - 220s 390ms/step - loss: 1.1921e-07 - accuracy: 0.6791 - val_loss: 1.1921e-07 - val_accuracy: 0.7490\n",
      "Epoch 24/70\n",
      "565/565 [==============================] - 231s 408ms/step - loss: 1.1921e-07 - accuracy: 0.6780 - val_loss: 1.1921e-07 - val_accuracy: 0.7490\n",
      "Epoch 25/70\n",
      "565/565 [==============================] - 240s 426ms/step - loss: 1.1921e-07 - accuracy: 0.6809 - val_loss: 1.1921e-07 - val_accuracy: 0.7482\n",
      "Epoch 26/70\n",
      "565/565 [==============================] - 234s 414ms/step - loss: 1.1921e-07 - accuracy: 0.6784 - val_loss: 1.1921e-07 - val_accuracy: 0.7487\n",
      "Epoch 27/70\n",
      "565/565 [==============================] - 219s 387ms/step - loss: 1.1921e-07 - accuracy: 0.6819 - val_loss: 1.1921e-07 - val_accuracy: 0.7485\n",
      "Epoch 28/70\n",
      "565/565 [==============================] - 219s 388ms/step - loss: 1.1921e-07 - accuracy: 0.6768 - val_loss: 1.1921e-07 - val_accuracy: 0.7483\n",
      "Epoch 29/70\n",
      "565/565 [==============================] - 211s 373ms/step - loss: 1.1921e-07 - accuracy: 0.6793 - val_loss: 1.1921e-07 - val_accuracy: 0.7480\n",
      "Epoch 30/70\n",
      "565/565 [==============================] - 237s 419ms/step - loss: 1.1921e-07 - accuracy: 0.6794 - val_loss: 1.1921e-07 - val_accuracy: 0.7489\n",
      "Epoch 31/70\n",
      "565/565 [==============================] - 311s 551ms/step - loss: 1.1921e-07 - accuracy: 0.6802 - val_loss: 1.1921e-07 - val_accuracy: 0.7482\n",
      "Epoch 32/70\n",
      "565/565 [==============================] - 307s 543ms/step - loss: 1.1921e-07 - accuracy: 0.6805 - val_loss: 1.1921e-07 - val_accuracy: 0.7483\n",
      "Epoch 33/70\n",
      "565/565 [==============================] - 274s 485ms/step - loss: 1.1921e-07 - accuracy: 0.6843 - val_loss: 1.1921e-07 - val_accuracy: 0.7486\n",
      "Epoch 34/70\n",
      "565/565 [==============================] - 178s 316ms/step - loss: 1.1921e-07 - accuracy: 0.6858 - val_loss: 1.1921e-07 - val_accuracy: 0.7477\n",
      "Epoch 35/70\n",
      "565/565 [==============================] - 184s 327ms/step - loss: 1.1921e-07 - accuracy: 0.6773 - val_loss: 1.1921e-07 - val_accuracy: 0.7487\n",
      "Epoch 36/70\n",
      "565/565 [==============================] - 185s 328ms/step - loss: 1.1921e-07 - accuracy: 0.6797 - val_loss: 1.1921e-07 - val_accuracy: 0.7486\n",
      "Epoch 37/70\n",
      "565/565 [==============================] - 179s 317ms/step - loss: 1.1921e-07 - accuracy: 0.6790 - val_loss: 1.1921e-07 - val_accuracy: 0.7488\n",
      "Epoch 38/70\n",
      "565/565 [==============================] - 23020s 41s/step - loss: 1.1921e-07 - accuracy: 0.6802 - val_loss: 1.1921e-07 - val_accuracy: 0.7480\n",
      "Epoch 39/70\n",
      "565/565 [==============================] - 167s 295ms/step - loss: 1.1921e-07 - accuracy: 0.6846 - val_loss: 1.1921e-07 - val_accuracy: 0.7482\n",
      "Epoch 40/70\n",
      "565/565 [==============================] - 183s 325ms/step - loss: 1.1921e-07 - accuracy: 0.6780 - val_loss: 1.1921e-07 - val_accuracy: 0.7482\n",
      "Epoch 41/70\n",
      "565/565 [==============================] - 183s 324ms/step - loss: 1.1921e-07 - accuracy: 0.6787 - val_loss: 1.1921e-07 - val_accuracy: 0.7487\n",
      "Epoch 42/70\n",
      "565/565 [==============================] - 182s 321ms/step - loss: 1.1921e-07 - accuracy: 0.6804 - val_loss: 1.1921e-07 - val_accuracy: 0.7483\n",
      "Epoch 43/70\n",
      "565/565 [==============================] - 191s 337ms/step - loss: 1.1921e-07 - accuracy: 0.6793 - val_loss: 1.1921e-07 - val_accuracy: 0.7488\n",
      "Epoch 44/70\n",
      "565/565 [==============================] - 187s 331ms/step - loss: 1.1921e-07 - accuracy: 0.6765 - val_loss: 1.1921e-07 - val_accuracy: 0.7479\n",
      "Epoch 45/70\n",
      "565/565 [==============================] - 187s 331ms/step - loss: 1.1921e-07 - accuracy: 0.6835 - val_loss: 1.1921e-07 - val_accuracy: 0.7486\n",
      "Epoch 46/70\n",
      "565/565 [==============================] - 190s 336ms/step - loss: 1.1921e-07 - accuracy: 0.6760 - val_loss: 1.1921e-07 - val_accuracy: 0.7482\n",
      "Epoch 47/70\n",
      "565/565 [==============================] - 188s 334ms/step - loss: 1.1921e-07 - accuracy: 0.6846 - val_loss: 1.1921e-07 - val_accuracy: 0.7477\n",
      "Epoch 48/70\n",
      "565/565 [==============================] - 183s 323ms/step - loss: 1.1921e-07 - accuracy: 0.6847 - val_loss: 1.1921e-07 - val_accuracy: 0.7482\n",
      "Epoch 49/70\n",
      "565/565 [==============================] - 182s 323ms/step - loss: 1.1921e-07 - accuracy: 0.6836 - val_loss: 1.1921e-07 - val_accuracy: 0.7486\n",
      "Epoch 50/70\n",
      "565/565 [==============================] - 1046s 2s/step - loss: 1.1921e-07 - accuracy: 0.6844 - val_loss: 1.1921e-07 - val_accuracy: 0.7486\n",
      "Epoch 51/70\n",
      "565/565 [==============================] - 174s 308ms/step - loss: 1.1921e-07 - accuracy: 0.6818 - val_loss: 1.1921e-07 - val_accuracy: 0.7483\n",
      "Epoch 52/70\n",
      "565/565 [==============================] - 182s 322ms/step - loss: 1.1921e-07 - accuracy: 0.6813 - val_loss: 1.1921e-07 - val_accuracy: 0.7487\n",
      "Epoch 53/70\n",
      "565/565 [==============================] - 184s 326ms/step - loss: 1.1921e-07 - accuracy: 0.6782 - val_loss: 1.1921e-07 - val_accuracy: 0.7486\n"
     ]
    },
    {
     "name": "stdout",
     "output_type": "stream",
     "text": [
      "Epoch 54/70\n",
      "565/565 [==============================] - 198s 350ms/step - loss: 1.1921e-07 - accuracy: 0.6799 - val_loss: 1.1921e-07 - val_accuracy: 0.7485\n",
      "Epoch 55/70\n",
      "565/565 [==============================] - 206s 365ms/step - loss: 1.1921e-07 - accuracy: 0.6838 - val_loss: 1.1921e-07 - val_accuracy: 0.7486\n",
      "Epoch 56/70\n",
      "565/565 [==============================] - 212s 376ms/step - loss: 1.1921e-07 - accuracy: 0.6814 - val_loss: 1.1921e-07 - val_accuracy: 0.7486\n",
      "Epoch 57/70\n",
      "565/565 [==============================] - 210s 371ms/step - loss: 1.1921e-07 - accuracy: 0.6792 - val_loss: 1.1921e-07 - val_accuracy: 0.7482\n",
      "Epoch 58/70\n",
      "565/565 [==============================] - 215s 380ms/step - loss: 1.1921e-07 - accuracy: 0.6837 - val_loss: 1.1921e-07 - val_accuracy: 0.7482\n",
      "Epoch 59/70\n",
      "565/565 [==============================] - 225s 398ms/step - loss: 1.1921e-07 - accuracy: 0.6788 - val_loss: 1.1921e-07 - val_accuracy: 0.7483\n",
      "Epoch 60/70\n",
      "565/565 [==============================] - 213s 377ms/step - loss: 1.1921e-07 - accuracy: 0.6806 - val_loss: 1.1921e-07 - val_accuracy: 0.7486\n",
      "Epoch 61/70\n",
      "565/565 [==============================] - 213s 377ms/step - loss: 1.1921e-07 - accuracy: 0.6793 - val_loss: 1.1921e-07 - val_accuracy: 0.7491\n",
      "Epoch 62/70\n",
      "565/565 [==============================] - 221s 392ms/step - loss: 1.1921e-07 - accuracy: 0.6750 - val_loss: 1.1921e-07 - val_accuracy: 0.7490\n",
      "Epoch 63/70\n",
      "565/565 [==============================] - 241s 427ms/step - loss: 1.1921e-07 - accuracy: 0.6817 - val_loss: 1.1921e-07 - val_accuracy: 0.7485\n",
      "Epoch 64/70\n",
      "565/565 [==============================] - 199s 352ms/step - loss: 1.1921e-07 - accuracy: 0.6809 - val_loss: 1.1921e-07 - val_accuracy: 0.7483\n",
      "Epoch 65/70\n",
      "565/565 [==============================] - 192s 340ms/step - loss: 1.1921e-07 - accuracy: 0.6815 - val_loss: 1.1921e-07 - val_accuracy: 0.7482\n",
      "Epoch 66/70\n",
      "565/565 [==============================] - 199s 352ms/step - loss: 1.1921e-07 - accuracy: 0.6838 - val_loss: 1.1921e-07 - val_accuracy: 0.7480\n",
      "Epoch 67/70\n",
      "565/565 [==============================] - 220s 390ms/step - loss: 1.1921e-07 - accuracy: 0.6798 - val_loss: 1.1921e-07 - val_accuracy: 0.7488\n",
      "Epoch 68/70\n",
      "565/565 [==============================] - 203s 359ms/step - loss: 1.1921e-07 - accuracy: 0.6858 - val_loss: 1.1921e-07 - val_accuracy: 0.7483\n",
      "Epoch 69/70\n",
      "565/565 [==============================] - 242s 429ms/step - loss: 1.1921e-07 - accuracy: 0.6817 - val_loss: 1.1921e-07 - val_accuracy: 0.7483\n",
      "Epoch 70/70\n",
      "565/565 [==============================] - 210s 371ms/step - loss: 1.1921e-07 - accuracy: 0.6799 - val_loss: 1.1921e-07 - val_accuracy: 0.7487\n"
     ]
    },
    {
     "data": {
      "text/plain": [
       "<keras.callbacks.History at 0x23b7c96dd90>"
      ]
     },
     "execution_count": 13,
     "metadata": {},
     "output_type": "execute_result"
    }
   ],
   "source": [
    "model.fit(\n",
    "        train_data,\n",
    "        validation_data=train_data,\n",
    "        verbose=1,\n",
    "        epochs=70,\n",
    "       )"
   ]
  },
  {
   "cell_type": "code",
   "execution_count": 14,
   "id": "b7c11b81",
   "metadata": {},
   "outputs": [],
   "source": [
    "for layer in pre_trained_model.layers:\n",
    "    layer.trainable = True"
   ]
  },
  {
   "cell_type": "code",
   "execution_count": 15,
   "id": "7be3eb2f",
   "metadata": {},
   "outputs": [],
   "source": [
    "model.compile(optimizer='adam', loss='binary_crossentropy', metrics=['accuracy'])"
   ]
  },
  {
   "cell_type": "code",
   "execution_count": 16,
   "id": "521dd44d",
   "metadata": {},
   "outputs": [],
   "source": [
    "learning_rate_reduction = ReduceLROnPlateau(monitor='val_acc', patience=3, verbose=1, factor=0.5, \n",
    "                                            min_lr=0.000001, cooldown=2)"
   ]
  },
  {
   "cell_type": "code",
   "execution_count": 17,
   "id": "3614260b",
   "metadata": {},
   "outputs": [
    {
     "name": "stdout",
     "output_type": "stream",
     "text": [
      "Model: \"model\"\n",
      "_________________________________________________________________\n",
      " Layer (type)                Output Shape              Param #   \n",
      "=================================================================\n",
      " input_1 (InputLayer)        [(None, 256, 256, 3)]     0         \n",
      "                                                                 \n",
      " block1_conv1 (Conv2D)       (None, 256, 256, 64)      1792      \n",
      "                                                                 \n",
      " block1_conv2 (Conv2D)       (None, 256, 256, 64)      36928     \n",
      "                                                                 \n",
      " block1_pool (MaxPooling2D)  (None, 128, 128, 64)      0         \n",
      "                                                                 \n",
      " block2_conv1 (Conv2D)       (None, 128, 128, 128)     73856     \n",
      "                                                                 \n",
      " block2_conv2 (Conv2D)       (None, 128, 128, 128)     147584    \n",
      "                                                                 \n",
      " block2_pool (MaxPooling2D)  (None, 64, 64, 128)       0         \n",
      "                                                                 \n",
      " block3_conv1 (Conv2D)       (None, 64, 64, 256)       295168    \n",
      "                                                                 \n",
      " block3_conv2 (Conv2D)       (None, 64, 64, 256)       590080    \n",
      "                                                                 \n",
      " block3_conv3 (Conv2D)       (None, 64, 64, 256)       590080    \n",
      "                                                                 \n",
      " block3_conv4 (Conv2D)       (None, 64, 64, 256)       590080    \n",
      "                                                                 \n",
      " block3_pool (MaxPooling2D)  (None, 32, 32, 256)       0         \n",
      "                                                                 \n",
      " block4_conv1 (Conv2D)       (None, 32, 32, 512)       1180160   \n",
      "                                                                 \n",
      " block4_conv2 (Conv2D)       (None, 32, 32, 512)       2359808   \n",
      "                                                                 \n",
      " block4_conv3 (Conv2D)       (None, 32, 32, 512)       2359808   \n",
      "                                                                 \n",
      " block4_conv4 (Conv2D)       (None, 32, 32, 512)       2359808   \n",
      "                                                                 \n",
      " block4_pool (MaxPooling2D)  (None, 16, 16, 512)       0         \n",
      "                                                                 \n",
      " block5_conv1 (Conv2D)       (None, 16, 16, 512)       2359808   \n",
      "                                                                 \n",
      " block5_conv2 (Conv2D)       (None, 16, 16, 512)       2359808   \n",
      "                                                                 \n",
      " block5_conv3 (Conv2D)       (None, 16, 16, 512)       2359808   \n",
      "                                                                 \n",
      " block5_conv4 (Conv2D)       (None, 16, 16, 512)       2359808   \n",
      "                                                                 \n",
      " block5_pool (MaxPooling2D)  (None, 8, 8, 512)         0         \n",
      "                                                                 \n",
      " global_max_pooling2d (Globa  (None, 512)              0         \n",
      " lMaxPooling2D)                                                  \n",
      "                                                                 \n",
      " dense (Dense)               (None, 512)               262656    \n",
      "                                                                 \n",
      " dropout (Dropout)           (None, 512)               0         \n",
      "                                                                 \n",
      " dense_1 (Dense)             (None, 1)                 513       \n",
      "                                                                 \n",
      "=================================================================\n",
      "Total params: 20,287,553\n",
      "Trainable params: 20,287,553\n",
      "Non-trainable params: 0\n",
      "_________________________________________________________________\n"
     ]
    }
   ],
   "source": [
    "model.summary()"
   ]
  },
  {
   "cell_type": "code",
   "execution_count": 19,
   "id": "d0f3b899",
   "metadata": {},
   "outputs": [
    {
     "name": "stdout",
     "output_type": "stream",
     "text": [
      "565/565 [==============================] - 116s 202ms/step - loss: 3.2590 - accuracy: 0.7483\n",
      "Validation: accuracy = 0.748340  ;  loss_v = 3.258966\n"
     ]
    }
   ],
   "source": [
    "loss_val, acc_val = model.evaluate(train_data, verbose=1)\n",
    "print(\"Validation: accuracy = %f  ;  loss_v = %f\" % (acc_val, loss_val))"
   ]
  },
  {
   "cell_type": "code",
   "execution_count": 20,
   "id": "cad0faec",
   "metadata": {},
   "outputs": [
    {
     "name": "stdout",
     "output_type": "stream",
     "text": [
      "565/565 [==============================] - 103s 183ms/step - loss: 3.2773 - accuracy: 0.7480\n",
      "Test: accuracy = 0.748008  ;  loss = 3.277346\n"
     ]
    }
   ],
   "source": [
    "loss_test, acc_test = model.evaluate(test_data, verbose=1)\n",
    "print(\"Test: accuracy = %f  ;  loss = %f\" % (acc_test, loss_test))"
   ]
  },
  {
   "cell_type": "code",
   "execution_count": 21,
   "id": "46c8e064",
   "metadata": {},
   "outputs": [
    {
     "name": "stderr",
     "output_type": "stream",
     "text": [
      "WARNING:absl:Found untraced functions such as _jit_compiled_convolution_op, _jit_compiled_convolution_op, _jit_compiled_convolution_op, _jit_compiled_convolution_op, _jit_compiled_convolution_op while saving (showing 5 of 16). These functions will not be directly callable after loading.\n"
     ]
    },
    {
     "name": "stdout",
     "output_type": "stream",
     "text": [
      "INFO:tensorflow:Assets written to: ../skinDiseaseDetection/models/1\\assets\n"
     ]
    },
    {
     "name": "stderr",
     "output_type": "stream",
     "text": [
      "INFO:tensorflow:Assets written to: ../skinDiseaseDetection/models/1\\assets\n"
     ]
    }
   ],
   "source": [
    "model_version=max([int(i) for i in os.listdir(\"../skinDiseaseDetection/models\") + [1]])\n",
    "model.save(f\"../skinDiseaseDetection/models/{model_version}\")"
   ]
  },
  {
   "cell_type": "code",
   "execution_count": 22,
   "id": "2af7d66e",
   "metadata": {},
   "outputs": [],
   "source": [
    "model.save(\"../modelVGG.h5\")"
   ]
  }
 ],
 "metadata": {
  "kernelspec": {
   "display_name": "Python 3 (ipykernel)",
   "language": "python",
   "name": "python3"
  },
  "language_info": {
   "codemirror_mode": {
    "name": "ipython",
    "version": 3
   },
   "file_extension": ".py",
   "mimetype": "text/x-python",
   "name": "python",
   "nbconvert_exporter": "python",
   "pygments_lexer": "ipython3",
   "version": "3.9.15"
  }
 },
 "nbformat": 4,
 "nbformat_minor": 5
}
